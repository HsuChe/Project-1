{
 "cells": [
  {
   "cell_type": "code",
   "execution_count": 1,
   "source": [
    "# import the dependencies\r\n",
    "import pandas as pd\r\n",
    "import matplotlib.pyplot as plt\r\n",
    "from analysis import bar_graph\r\n"
   ],
   "outputs": [],
   "metadata": {}
  },
  {
   "cell_type": "code",
   "execution_count": null,
   "source": [
    "# load dropout data\r\n",
    "csvpath = '../merge_ready_data/eoc_subgroup_clean.csv'\r\n",
    "csvpath_dep = '../merge_ready_data/dependent_variable_clean.csv'\r\n",
    "df = pd.read_csv(csvpath)\r\n",
    "dep_var_df = pd.read_csv(csvpath_dep)"
   ],
   "outputs": [],
   "metadata": {}
  },
  {
   "cell_type": "markdown",
   "source": [
    "# Analyze Dropout Rates"
   ],
   "metadata": {}
  },
  {
   "cell_type": "code",
   "execution_count": null,
   "source": [
    "merged_df = pd.merge(dep_var_df, df, on=\"School District Code\", how=\"inner\")\r\n",
    "merged_df = merged_df.dropna()\r\n",
    "merged_df['PCT_analysis'] = merged_df['BEGIN_PCT'] + merged_df['BEGIN_PCT']\r\n",
    "merged_df"
   ],
   "outputs": [],
   "metadata": {}
  },
  {
   "cell_type": "code",
   "execution_count": null,
   "source": [
    "# merged_academic = merged DataFrame\r\n",
    "# description = label for the independent variable\r\n",
    "# selection_column = column where the labels of the independent variables are\r\n",
    "# selection_column = values for the independent variable\r\n",
    "\r\n",
    "merged_academic = merged_df\r\n",
    "selection_column = 'SUBGROUP_NAME'\r\n",
    "ind_var_label = 'PCT_analysis'"
   ],
   "outputs": [],
   "metadata": {}
  },
  {
   "cell_type": "code",
   "execution_count": null,
   "source": [
    "bar_graph(merged_academic,selection_column,ind_var_label)"
   ],
   "outputs": [],
   "metadata": {}
  },
  {
   "cell_type": "code",
   "execution_count": null,
   "source": [],
   "outputs": [],
   "metadata": {}
  },
  {
   "cell_type": "code",
   "execution_count": null,
   "source": [],
   "outputs": [],
   "metadata": {}
  }
 ],
 "metadata": {
  "interpreter": {
   "hash": "34f272d8157fdf46b47d42224e7979d309dc160809bb0a91383f850ebed3338e"
  },
  "kernelspec": {
   "name": "python3",
   "display_name": "Python 3.9.4 64-bit (conda)"
  },
  "language_info": {
   "codemirror_mode": {
    "name": "ipython",
    "version": 3
   },
   "file_extension": ".py",
   "mimetype": "text/x-python",
   "name": "python",
   "nbconvert_exporter": "python",
   "pygments_lexer": "ipython3",
   "version": "3.9.4"
  }
 },
 "nbformat": 4,
 "nbformat_minor": 5
}