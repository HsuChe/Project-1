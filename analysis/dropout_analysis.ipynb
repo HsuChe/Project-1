{
 "cells": [
  {
   "cell_type": "code",
   "execution_count": 6,
   "source": [
    "# import the dependencies\r\n",
    "import pandas as pd\r\n",
    "import matplotlib.pyplot as plt\r\n",
    "from analysis import bar_graph\r\n"
   ],
   "outputs": [],
   "metadata": {}
  },
  {
   "cell_type": "code",
   "execution_count": 7,
   "source": [
    "# load dropout data\r\n",
    "csvpath = '../merge_ready_data/dropout_clean.csv'\r\n",
    "csvpath_dep = '../merge_ready_data/dependent_variable_clean.csv'\r\n",
    "df = pd.read_csv(csvpath)\r\n",
    "dep_var_df = pd.read_csv(csvpath_dep)"
   ],
   "outputs": [],
   "metadata": {}
  },
  {
   "cell_type": "markdown",
   "source": [
    "# Analyze Dropout Rates"
   ],
   "metadata": {}
  },
  {
   "cell_type": "code",
   "execution_count": 11,
   "source": [
    "merged_df = pd.merge(dep_var_df, df, on=\"School District Code\", how=\"inner\")\r\n",
    "merged_df = merged_df.dropna()\r\n",
    "merged_df = merged_df.replace('7-12 Drop Outs -Asian/Pacific Islander', '7-12 Drop Outs -Asian & Pacific Islander')\r\n",
    "merged_df.columns"
   ],
   "outputs": [
    {
     "output_type": "execute_result",
     "data": {
      "text/plain": [
       "Index(['School Year', 'School District Code', 'School District Name',\n",
       "       'School Code', 'School Name', 'Graduates', 'Postsecondary Institution',\n",
       "       'Percent', 'Unnamed: 0', 'LABEL_LVL_1_DESC', 'PROGRAM_TOTAL',\n",
       "       'PROGRAM_PERCENT'],\n",
       "      dtype='object')"
      ]
     },
     "metadata": {},
     "execution_count": 11
    }
   ],
   "metadata": {}
  },
  {
   "cell_type": "code",
   "execution_count": 12,
   "source": [
    "# merged_academic = merged DataFrame\r\n",
    "# description = label for the independent variable\r\n",
    "# selection_column = column where the labels of the independent variables are\r\n",
    "# selection_column = values for the independent variable\r\n",
    "\r\n",
    "merged_academic = merged_df\r\n",
    "selection_column = 'LABEL_LVL_1_DESC'\r\n",
    "ind_var_label = 'PROGRAM_PERCENT'"
   ],
   "outputs": [],
   "metadata": {}
  },
  {
   "cell_type": "code",
   "execution_count": 13,
   "source": [
    "bar_graph(merged_academic,selection_column,ind_var_label)"
   ],
   "outputs": [
    {
     "output_type": "stream",
     "name": "stderr",
     "text": [
      "C:\\Users\\hsueh\\Conda\\envs\\PythonEnv3.9\\lib\\site-packages\\pandas\\core\\indexing.py:1597: SettingWithCopyWarning: \n",
      "A value is trying to be set on a copy of a slice from a DataFrame.\n",
      "Try using .loc[row_indexer,col_indexer] = value instead\n",
      "\n",
      "See the caveats in the documentation: https://pandas.pydata.org/pandas-docs/stable/user_guide/indexing.html#returning-a-view-versus-a-copy\n",
      "  self.obj[key] = value\n",
      "C:\\Users\\hsueh\\Conda\\envs\\PythonEnv3.9\\lib\\site-packages\\pandas\\core\\indexing.py:1676: SettingWithCopyWarning: \n",
      "A value is trying to be set on a copy of a slice from a DataFrame.\n",
      "Try using .loc[row_indexer,col_indexer] = value instead\n",
      "\n",
      "See the caveats in the documentation: https://pandas.pydata.org/pandas-docs/stable/user_guide/indexing.html#returning-a-view-versus-a-copy\n",
      "  self._setitem_single_column(ilocs[0], value, pi)\n"
     ]
    },
    {
     "output_type": "stream",
     "name": "stdout",
     "text": [
      "63.87749890262945\n",
      "The r-value is: 0.011620819449055698\n",
      "The intercept value is: 63.87749890262945\n",
      "The p-value is: 0.24121825854501522\n"
     ]
    }
   ],
   "metadata": {}
  },
  {
   "cell_type": "code",
   "execution_count": null,
   "source": [],
   "outputs": [],
   "metadata": {}
  },
  {
   "cell_type": "code",
   "execution_count": null,
   "source": [],
   "outputs": [],
   "metadata": {}
  },
  {
   "cell_type": "code",
   "execution_count": null,
   "source": [],
   "outputs": [],
   "metadata": {}
  }
 ],
 "metadata": {
  "interpreter": {
   "hash": "34f272d8157fdf46b47d42224e7979d309dc160809bb0a91383f850ebed3338e"
  },
  "kernelspec": {
   "name": "python3",
   "display_name": "Python 3.9.4 64-bit (conda)"
  },
  "language_info": {
   "codemirror_mode": {
    "name": "ipython",
    "version": 3
   },
   "file_extension": ".py",
   "mimetype": "text/x-python",
   "name": "python",
   "nbconvert_exporter": "python",
   "pygments_lexer": "ipython3",
   "version": "3.9.4"
  }
 },
 "nbformat": 4,
 "nbformat_minor": 5
}