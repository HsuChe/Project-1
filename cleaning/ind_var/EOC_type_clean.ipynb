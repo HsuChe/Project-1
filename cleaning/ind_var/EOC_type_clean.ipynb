{
 "cells": [
  {
   "cell_type": "code",
   "execution_count": 1,
   "source": [
    "# import all the dependencies\r\n",
    "from ind_var_clean import ind_var_clean\r\n",
    "import pandas as pd"
   ],
   "outputs": [],
   "metadata": {}
  },
  {
   "cell_type": "code",
   "execution_count": 6,
   "source": [
    "# extract the data from the csv\r\n",
    "csv_path = '../../raw_data/EOC_2019_By_Grad_FEB_24_2020 (1).csv'\r\n",
    "df = pd.read_csv(csv_path)"
   ],
   "outputs": [
    {
     "output_type": "stream",
     "name": "stderr",
     "text": [
      "C:\\Users\\hsueh\\Conda\\envs\\PythonEnv3.9\\lib\\site-packages\\IPython\\core\\interactiveshell.py:3165: DtypeWarning: Columns (1) have mixed types.Specify dtype option on import or set low_memory=False.\n",
      "  has_raised = await self.run_ast_nodes(code_ast.body, cell_name,\n"
     ]
    }
   ],
   "metadata": {}
  },
  {
   "cell_type": "code",
   "execution_count": 7,
   "source": [
    "# find the all the names of the columns in the data set\r\n",
    "columns_list = df.columns\r\n",
    "columns_list"
   ],
   "outputs": [
    {
     "output_type": "execute_result",
     "data": {
      "text/plain": [
       "Index(['LONG_SCHOOL_YEAR', 'SCHOOL_DISTRCT_CD', 'SCHOOL_DSTRCT_NM',\n",
       "       'INSTN_NUMBER', 'INSTN_NAME', 'ACDMC_LVL', 'SUBGROUP_NAME',\n",
       "       'TEST_CMPNT_TYP_NM', 'NUM_TESTED_CNT', 'BEGIN_CNT', 'DEVELOPING_CNT',\n",
       "       'PROFICIENT_CNT', 'DISTINGUISHED_CNT', 'BEGIN_PCT', 'DEVELOPING_PCT',\n",
       "       'PROFICIENT_PCT', 'DISTINGUISHED_PCT'],\n",
       "      dtype='object')"
      ]
     },
     "metadata": {},
     "execution_count": 7
    }
   ],
   "metadata": {}
  },
  {
   "cell_type": "code",
   "execution_count": 8,
   "source": [
    "# populate the parameters for the clean data function\r\n",
    "merge_column = 'SCHOOL_DISTRCT_CD'\r\n",
    "test_column = ['School District Code','TEST_CMPNT_TYP_NM', 'NUM_TESTED_CNT', 'BEGIN_CNT', 'DEVELOPING_CNT',\r\n",
    "       'PROFICIENT_CNT', 'DISTINGUISHED_CNT', 'BEGIN_PCT', 'DEVELOPING_PCT',\r\n",
    "       'PROFICIENT_PCT', 'DISTINGUISHED_PCT']\r\n",
    "selection_column = 'TEST_CMPNT_TYP_NM'\r\n",
    "output_name = 'eoc_type_clean'"
   ],
   "outputs": [],
   "metadata": {}
  },
  {
   "cell_type": "code",
   "execution_count": 9,
   "source": [
    "# run the clean data function\r\n",
    "ind_var_clean(df,merge_column,test_column,selection_column,output_name)"
   ],
   "outputs": [
    {
     "output_type": "stream",
     "name": "stderr",
     "text": [
      "c:\\Users\\hsueh\\OneDrive\\Desktop\\Project 1 final\\cleaning\\ind_var\\ind_var_clean.py:5: SettingWithCopyWarning: \n",
      "A value is trying to be set on a copy of a slice from a DataFrame.\n",
      "Try using .loc[row_indexer,col_indexer] = value instead\n",
      "\n",
      "See the caveats in the documentation: https://pandas.pydata.org/pandas-docs/stable/user_guide/indexing.html#returning-a-view-versus-a-copy\n",
      "  dataframe['School District Code'] = dataframe[merge_column].astype(int)\n"
     ]
    }
   ],
   "metadata": {}
  },
  {
   "cell_type": "code",
   "execution_count": null,
   "source": [],
   "outputs": [],
   "metadata": {}
  }
 ],
 "metadata": {
  "orig_nbformat": 4,
  "language_info": {
   "name": "python",
   "version": "3.9.4",
   "mimetype": "text/x-python",
   "codemirror_mode": {
    "name": "ipython",
    "version": 3
   },
   "pygments_lexer": "ipython3",
   "nbconvert_exporter": "python",
   "file_extension": ".py"
  },
  "kernelspec": {
   "name": "python3",
   "display_name": "Python 3.9.4 64-bit (conda)"
  },
  "interpreter": {
   "hash": "34f272d8157fdf46b47d42224e7979d309dc160809bb0a91383f850ebed3338e"
  }
 },
 "nbformat": 4,
 "nbformat_minor": 2
}