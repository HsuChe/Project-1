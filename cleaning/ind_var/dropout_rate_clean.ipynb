{
 "cells": [
  {
   "cell_type": "code",
   "execution_count": 7,
   "source": [
    "# import the necessary dependencies\r\n",
    "from ind_var_clean import ind_var_clean\r\n",
    "import pandas as pd"
   ],
   "outputs": [],
   "metadata": {}
  },
  {
   "cell_type": "code",
   "execution_count": 5,
   "source": [
    "# import the csv as a dataframe\r\n",
    "dropout_df = pd.read_csv('../../raw_data/7-12 Dropout Rate-2018_DEC_10th_2018.csv')"
   ],
   "outputs": [],
   "metadata": {}
  },
  {
   "cell_type": "code",
   "execution_count": 8,
   "source": [
    "# populate the paramters for the cleaning function\r\n",
    "merge_column = 'SCHOOL_DSTRCT_CD'\r\n",
    "test_column = ['School District Code', 'LABEL_LVL_1_DESC', 'PROGRAM_TOTAL', 'PROGRAM_PERCENT']\r\n",
    "selection_column = 'LABEL_LVL_1_DESC'\r\n",
    "output_name = 'dropout_clean'\r\n",
    "ind_var_clean(dropout_df,merge_column,test_column,selection_column,output_name)"
   ],
   "outputs": [
    {
     "output_type": "stream",
     "name": "stderr",
     "text": [
      "c:\\Users\\hsueh\\OneDrive\\Desktop\\Project 1 final\\cleaning\\ind_var\\ind_var_clean.py:5: SettingWithCopyWarning: \n",
      "A value is trying to be set on a copy of a slice from a DataFrame.\n",
      "Try using .loc[row_indexer,col_indexer] = value instead\n",
      "\n",
      "See the caveats in the documentation: https://pandas.pydata.org/pandas-docs/stable/user_guide/indexing.html#returning-a-view-versus-a-copy\n",
      "  dataframe['School District Code'] = dataframe[merge_column].astype(int)\n"
     ]
    }
   ],
   "metadata": {}
  },
  {
   "cell_type": "code",
   "execution_count": null,
   "source": [],
   "outputs": [],
   "metadata": {}
  }
 ],
 "metadata": {
  "orig_nbformat": 4,
  "language_info": {
   "name": "python",
   "version": "3.9.4",
   "mimetype": "text/x-python",
   "codemirror_mode": {
    "name": "ipython",
    "version": 3
   },
   "pygments_lexer": "ipython3",
   "nbconvert_exporter": "python",
   "file_extension": ".py"
  },
  "kernelspec": {
   "name": "python3",
   "display_name": "Python 3.9.4 64-bit (conda)"
  },
  "interpreter": {
   "hash": "34f272d8157fdf46b47d42224e7979d309dc160809bb0a91383f850ebed3338e"
  }
 },
 "nbformat": 4,
 "nbformat_minor": 2
}