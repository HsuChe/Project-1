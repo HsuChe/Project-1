{
 "cells": [
  {
   "cell_type": "code",
   "execution_count": 5,
   "source": [
    "# import all the dependencies\r\n",
    "from ind_var_clean import ind_var_clean\r\n",
    "import pandas as pd"
   ],
   "outputs": [],
   "metadata": {}
  },
  {
   "cell_type": "code",
   "execution_count": 6,
   "source": [
    "# extract the data from the csv\r\n",
    "csv_path = '../../raw_data/SAT-score-data.csv'\r\n",
    "df = pd.read_csv(csv_path)\r\n",
    "df.head()"
   ],
   "outputs": [
    {
     "output_type": "execute_result",
     "data": {
      "text/plain": [
       "   School District Code School District Tested  District Average Score  \\\n",
       "0                   601         Appling County                  1002.0   \n",
       "1                   602        Atkinson County                   952.0   \n",
       "2                   603           Bacon County                  1019.0   \n",
       "3                   605         Baldwin County                   915.0   \n",
       "4                   606           Banks County                  1055.0   \n",
       "\n",
       "  District Number Tested  \n",
       "0                     78  \n",
       "1                     57  \n",
       "2                     49  \n",
       "3                    122  \n",
       "4                     53  "
      ],
      "text/html": [
       "<div>\n",
       "<style scoped>\n",
       "    .dataframe tbody tr th:only-of-type {\n",
       "        vertical-align: middle;\n",
       "    }\n",
       "\n",
       "    .dataframe tbody tr th {\n",
       "        vertical-align: top;\n",
       "    }\n",
       "\n",
       "    .dataframe thead th {\n",
       "        text-align: right;\n",
       "    }\n",
       "</style>\n",
       "<table border=\"1\" class=\"dataframe\">\n",
       "  <thead>\n",
       "    <tr style=\"text-align: right;\">\n",
       "      <th></th>\n",
       "      <th>School District Code</th>\n",
       "      <th>School District Tested</th>\n",
       "      <th>District Average Score</th>\n",
       "      <th>District Number Tested</th>\n",
       "    </tr>\n",
       "  </thead>\n",
       "  <tbody>\n",
       "    <tr>\n",
       "      <th>0</th>\n",
       "      <td>601</td>\n",
       "      <td>Appling County</td>\n",
       "      <td>1002.0</td>\n",
       "      <td>78</td>\n",
       "    </tr>\n",
       "    <tr>\n",
       "      <th>1</th>\n",
       "      <td>602</td>\n",
       "      <td>Atkinson County</td>\n",
       "      <td>952.0</td>\n",
       "      <td>57</td>\n",
       "    </tr>\n",
       "    <tr>\n",
       "      <th>2</th>\n",
       "      <td>603</td>\n",
       "      <td>Bacon County</td>\n",
       "      <td>1019.0</td>\n",
       "      <td>49</td>\n",
       "    </tr>\n",
       "    <tr>\n",
       "      <th>3</th>\n",
       "      <td>605</td>\n",
       "      <td>Baldwin County</td>\n",
       "      <td>915.0</td>\n",
       "      <td>122</td>\n",
       "    </tr>\n",
       "    <tr>\n",
       "      <th>4</th>\n",
       "      <td>606</td>\n",
       "      <td>Banks County</td>\n",
       "      <td>1055.0</td>\n",
       "      <td>53</td>\n",
       "    </tr>\n",
       "  </tbody>\n",
       "</table>\n",
       "</div>"
      ]
     },
     "metadata": {},
     "execution_count": 6
    }
   ],
   "metadata": {}
  },
  {
   "cell_type": "code",
   "execution_count": 7,
   "source": [
    "# find the all the names of the columns in the data set\r\n",
    "columns_list = df.columns\r\n",
    "columns_list"
   ],
   "outputs": [
    {
     "output_type": "execute_result",
     "data": {
      "text/plain": [
       "Index(['School District Code', 'School District Tested',\n",
       "       'District Average Score', 'District Number Tested'],\n",
       "      dtype='object')"
      ]
     },
     "metadata": {},
     "execution_count": 7
    }
   ],
   "metadata": {}
  },
  {
   "cell_type": "code",
   "execution_count": 9,
   "source": [
    "# populate the parameters for the clean data function\r\n",
    "merge_column = columns_list[0]\r\n",
    "test_column = ['School District Code', 'School District Tested', 'District Average Score', 'District Number Tested']\r\n",
    "selection_column = 'School District Tested'\r\n",
    "output_name = 'sat_data_clean'"
   ],
   "outputs": [],
   "metadata": {}
  },
  {
   "cell_type": "code",
   "execution_count": 10,
   "source": [
    "# run the clean data function\r\n",
    "ind_var_clean(df,merge_column,test_column,selection_column,output_name)"
   ],
   "outputs": [],
   "metadata": {}
  },
  {
   "cell_type": "code",
   "execution_count": null,
   "source": [],
   "outputs": [],
   "metadata": {}
  }
 ],
 "metadata": {
  "orig_nbformat": 4,
  "language_info": {
   "name": "python",
   "version": "3.9.4",
   "mimetype": "text/x-python",
   "codemirror_mode": {
    "name": "ipython",
    "version": 3
   },
   "pygments_lexer": "ipython3",
   "nbconvert_exporter": "python",
   "file_extension": ".py"
  },
  "kernelspec": {
   "name": "python3",
   "display_name": "Python 3.9.4 64-bit (conda)"
  },
  "interpreter": {
   "hash": "34f272d8157fdf46b47d42224e7979d309dc160809bb0a91383f850ebed3338e"
  }
 },
 "nbformat": 4,
 "nbformat_minor": 2
}