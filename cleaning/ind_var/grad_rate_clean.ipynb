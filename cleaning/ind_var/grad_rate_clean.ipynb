{
 "cells": [
  {
   "cell_type": "code",
   "execution_count": 1,
   "source": [
    "# import all the dependencies\r\n",
    "from ind_var_clean import ind_var_clean\r\n",
    "import pandas as pd"
   ],
   "outputs": [],
   "metadata": {}
  },
  {
   "cell_type": "code",
   "execution_count": 5,
   "source": [
    "# extract the data from the csv\r\n",
    "csv_path = '../../raw_data/Graduation_Rate_2019_Dec2nd_2019 (3).csv'\r\n",
    "df = pd.read_csv(csv_path)\r\n",
    "df.head()"
   ],
   "outputs": [
    {
     "output_type": "execute_result",
     "data": {
      "text/plain": [
       "  LONG_SCHOOL_YEAR DETAIL_LVL_DESC  SCHOOL_DSTRCT_CD SCHOOL_DSTRCT_NM  \\\n",
       "0          2018-19        District               601   Appling County   \n",
       "1          2018-19        District               601   Appling County   \n",
       "2          2018-19        District               601   Appling County   \n",
       "3          2018-19        District               601   Appling County   \n",
       "4          2018-19        District               601   Appling County   \n",
       "\n",
       "  INSTN_NUMBER         INSTN_NAME                         GRADES_SERVED_DESC  \\\n",
       "0          ALL  All Column Values  PK,KK,01,02,03,04,05,06,07,08,09,10,11,12   \n",
       "1          ALL  All Column Values  PK,KK,01,02,03,04,05,06,07,08,09,10,11,12   \n",
       "2          ALL  All Column Values  PK,KK,01,02,03,04,05,06,07,08,09,10,11,12   \n",
       "3          ALL  All Column Values  PK,KK,01,02,03,04,05,06,07,08,09,10,11,12   \n",
       "4          ALL  All Column Values  PK,KK,01,02,03,04,05,06,07,08,09,10,11,12   \n",
       "\n",
       "                     LABEL_LVL_1_DESC  PROGRAM_TOTAL  PROGRAM_PERCENT  \\\n",
       "0             Grad Rate -ALL Students          220.0            90.16   \n",
       "1              Grad Rate -Active Duty            NaN              NaN   \n",
       "2  Grad Rate -American Indian/Alaskan            NaN              NaN   \n",
       "3   Grad Rate -Asian/Pacific Islander            NaN              NaN   \n",
       "4                    Grad Rate -Black           54.0            96.43   \n",
       "\n",
       "   TOTAL_COUNT  \n",
       "0        244.0  \n",
       "1          NaN  \n",
       "2          NaN  \n",
       "3          NaN  \n",
       "4         56.0  "
      ],
      "text/html": [
       "<div>\n",
       "<style scoped>\n",
       "    .dataframe tbody tr th:only-of-type {\n",
       "        vertical-align: middle;\n",
       "    }\n",
       "\n",
       "    .dataframe tbody tr th {\n",
       "        vertical-align: top;\n",
       "    }\n",
       "\n",
       "    .dataframe thead th {\n",
       "        text-align: right;\n",
       "    }\n",
       "</style>\n",
       "<table border=\"1\" class=\"dataframe\">\n",
       "  <thead>\n",
       "    <tr style=\"text-align: right;\">\n",
       "      <th></th>\n",
       "      <th>LONG_SCHOOL_YEAR</th>\n",
       "      <th>DETAIL_LVL_DESC</th>\n",
       "      <th>SCHOOL_DSTRCT_CD</th>\n",
       "      <th>SCHOOL_DSTRCT_NM</th>\n",
       "      <th>INSTN_NUMBER</th>\n",
       "      <th>INSTN_NAME</th>\n",
       "      <th>GRADES_SERVED_DESC</th>\n",
       "      <th>LABEL_LVL_1_DESC</th>\n",
       "      <th>PROGRAM_TOTAL</th>\n",
       "      <th>PROGRAM_PERCENT</th>\n",
       "      <th>TOTAL_COUNT</th>\n",
       "    </tr>\n",
       "  </thead>\n",
       "  <tbody>\n",
       "    <tr>\n",
       "      <th>0</th>\n",
       "      <td>2018-19</td>\n",
       "      <td>District</td>\n",
       "      <td>601</td>\n",
       "      <td>Appling County</td>\n",
       "      <td>ALL</td>\n",
       "      <td>All Column Values</td>\n",
       "      <td>PK,KK,01,02,03,04,05,06,07,08,09,10,11,12</td>\n",
       "      <td>Grad Rate -ALL Students</td>\n",
       "      <td>220.0</td>\n",
       "      <td>90.16</td>\n",
       "      <td>244.0</td>\n",
       "    </tr>\n",
       "    <tr>\n",
       "      <th>1</th>\n",
       "      <td>2018-19</td>\n",
       "      <td>District</td>\n",
       "      <td>601</td>\n",
       "      <td>Appling County</td>\n",
       "      <td>ALL</td>\n",
       "      <td>All Column Values</td>\n",
       "      <td>PK,KK,01,02,03,04,05,06,07,08,09,10,11,12</td>\n",
       "      <td>Grad Rate -Active Duty</td>\n",
       "      <td>NaN</td>\n",
       "      <td>NaN</td>\n",
       "      <td>NaN</td>\n",
       "    </tr>\n",
       "    <tr>\n",
       "      <th>2</th>\n",
       "      <td>2018-19</td>\n",
       "      <td>District</td>\n",
       "      <td>601</td>\n",
       "      <td>Appling County</td>\n",
       "      <td>ALL</td>\n",
       "      <td>All Column Values</td>\n",
       "      <td>PK,KK,01,02,03,04,05,06,07,08,09,10,11,12</td>\n",
       "      <td>Grad Rate -American Indian/Alaskan</td>\n",
       "      <td>NaN</td>\n",
       "      <td>NaN</td>\n",
       "      <td>NaN</td>\n",
       "    </tr>\n",
       "    <tr>\n",
       "      <th>3</th>\n",
       "      <td>2018-19</td>\n",
       "      <td>District</td>\n",
       "      <td>601</td>\n",
       "      <td>Appling County</td>\n",
       "      <td>ALL</td>\n",
       "      <td>All Column Values</td>\n",
       "      <td>PK,KK,01,02,03,04,05,06,07,08,09,10,11,12</td>\n",
       "      <td>Grad Rate -Asian/Pacific Islander</td>\n",
       "      <td>NaN</td>\n",
       "      <td>NaN</td>\n",
       "      <td>NaN</td>\n",
       "    </tr>\n",
       "    <tr>\n",
       "      <th>4</th>\n",
       "      <td>2018-19</td>\n",
       "      <td>District</td>\n",
       "      <td>601</td>\n",
       "      <td>Appling County</td>\n",
       "      <td>ALL</td>\n",
       "      <td>All Column Values</td>\n",
       "      <td>PK,KK,01,02,03,04,05,06,07,08,09,10,11,12</td>\n",
       "      <td>Grad Rate -Black</td>\n",
       "      <td>54.0</td>\n",
       "      <td>96.43</td>\n",
       "      <td>56.0</td>\n",
       "    </tr>\n",
       "  </tbody>\n",
       "</table>\n",
       "</div>"
      ]
     },
     "metadata": {},
     "execution_count": 5
    }
   ],
   "metadata": {}
  },
  {
   "cell_type": "code",
   "execution_count": 3,
   "source": [
    "# find the all the names of the columns in the data set\r\n",
    "columns_list = df.columns\r\n",
    "columns_list"
   ],
   "outputs": [
    {
     "output_type": "execute_result",
     "data": {
      "text/plain": [
       "Index(['LONG_SCHOOL_YEAR', 'DETAIL_LVL_DESC', 'SCHOOL_DSTRCT_CD',\n",
       "       'SCHOOL_DSTRCT_NM', 'INSTN_NUMBER', 'INSTN_NAME', 'GRADES_SERVED_DESC',\n",
       "       'LABEL_LVL_1_DESC', 'PROGRAM_TOTAL', 'PROGRAM_PERCENT', 'TOTAL_COUNT'],\n",
       "      dtype='object')"
      ]
     },
     "metadata": {},
     "execution_count": 3
    }
   ],
   "metadata": {}
  },
  {
   "cell_type": "code",
   "execution_count": 6,
   "source": [
    "# populate the parameters for the clean data function\r\n",
    "merge_column = 'SCHOOL_DSTRCT_CD'\r\n",
    "test_column = ['School District Code', 'LABEL_LVL_1_DESC', 'PROGRAM_TOTAL', 'PROGRAM_PERCENT', 'TOTAL_COUNT']\r\n",
    "selection_column = 'LABEL_LVL_1_DESC'\r\n",
    "output_name = 'school_prog_grad_rate'"
   ],
   "outputs": [],
   "metadata": {}
  },
  {
   "cell_type": "code",
   "execution_count": 7,
   "source": [
    "# run the clean data function\r\n",
    "ind_var_clean(df,merge_column,test_column,selection_column,output_name)"
   ],
   "outputs": [],
   "metadata": {}
  },
  {
   "cell_type": "code",
   "execution_count": null,
   "source": [],
   "outputs": [],
   "metadata": {}
  }
 ],
 "metadata": {
  "orig_nbformat": 4,
  "language_info": {
   "name": "python",
   "version": "3.9.4",
   "mimetype": "text/x-python",
   "codemirror_mode": {
    "name": "ipython",
    "version": 3
   },
   "pygments_lexer": "ipython3",
   "nbconvert_exporter": "python",
   "file_extension": ".py"
  },
  "kernelspec": {
   "name": "python3",
   "display_name": "Python 3.9.4 64-bit (conda)"
  },
  "interpreter": {
   "hash": "34f272d8157fdf46b47d42224e7979d309dc160809bb0a91383f850ebed3338e"
  }
 },
 "nbformat": 4,
 "nbformat_minor": 2
}